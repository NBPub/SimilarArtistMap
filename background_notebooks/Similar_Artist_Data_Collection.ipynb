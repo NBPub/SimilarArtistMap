{
 "cells": [
  {
   "cell_type": "markdown",
   "id": "4a2ae767-e548-42fa-b3a9-d327a245fc63",
   "metadata": {},
   "source": [
    "## Data Collection\n",
    " * [generate](#Artist-List) list of artists from \"library\"\n",
    " * [search](#Loop-for-Similar-Artists)  for up to 10 similar artists from each artist via [last.fm API](#last.fm-API-settings)\n",
    "   * gather similar artist data:\n",
    "     * name (string)\n",
    "     * match score (float, 0-1) --> saved as (integer, 0-1e7)\n",
    "     * if similar artist in library (boolean)\n",
    "     * last.fm URL (string, valid URL)\n",
    "   * try replacing \"&\" and \"+\" with \"and\" if artist not found\n",
    "     * if successful, save alias names as dictionary for future use\n",
    "   * [save](#Save-Data) similar artist data and failed searches as JSON files\n",
    " * *optional*: analyze failed searches and try again\n",
    "   * [sample data after collection](#Data-Preview)"
   ]
  },
  {
   "cell_type": "markdown",
   "id": "762ced4a-5d18-4d72-a1f8-b366da4d85bc",
   "metadata": {},
   "source": [
    "----\n",
    "###\n",
    "### Import packages"
   ]
  },
  {
   "cell_type": "code",
   "execution_count": 1,
   "id": "9bcc44d4-9ab8-4fd1-8bdf-d0805820e0f9",
   "metadata": {},
   "outputs": [],
   "source": [
    "import requests\n",
    "import json\n",
    "from pathlib import Path\n",
    "import pandas as pd\n",
    "from tqdm import tqdm\n",
    "from time import sleep\n",
    "from collections import defaultdict"
   ]
  },
  {
   "cell_type": "markdown",
   "id": "767c77f7-6e72-4ba0-94a7-ca69a457375a",
   "metadata": {},
   "source": [
    "----\n",
    "###  \n",
    "### Artist List\n",
    "\n",
    "I have a [SQLite database](https://github.com/NBPub/MusicDB-sql-practice#part-one---db-creation) for my music library and gathered a list of artists from that. Other methods may be more suitable for you:\n",
    " * use folder names if library stored with **Artist Names** as folders, `Path.iterdir()`\n",
    " * use API of your streaming service\n",
    "   * [last.fm User Library](https://www.last.fm/api/show/library.getArtists)\n",
    "   * [Spotify Followed Artists](https://developer.spotify.com/documentation/web-api/reference/get-followed)\n",
    " * manually create a list of artists to use"
   ]
  },
  {
   "cell_type": "code",
   "execution_count": 2,
   "id": "89e9e63f-758d-406b-93f0-9dc2c3afd87c",
   "metadata": {},
   "outputs": [
    {
     "name": "stdout",
     "output_type": "stream",
     "text": [
      "1538\n"
     ]
    }
   ],
   "source": [
    "import sqlite3\n",
    "\n",
    "con = sqlite3.connect('seven.db')\n",
    "cur = con.cursor()\n",
    "\n",
    "artist_list = cur.execute('SELECT name FROM Artists').fetchall()\n",
    "artist_list = [val[0] for val in artist_list]\n",
    "\n",
    "# capitalization shouldn't affect determination if similar artist in library\n",
    "artist_lower = [val.lower() for val in artist_list] \n",
    "print(len(artist_list))"
   ]
  },
  {
   "cell_type": "code",
   "execution_count": 3,
   "id": "4dfdfe43-316c-4221-9b03-ce164babc1e9",
   "metadata": {},
   "outputs": [],
   "source": [
    "con.close()"
   ]
  },
  {
   "cell_type": "markdown",
   "id": "205808c1-be67-4909-96e8-8e46122ff0f7",
   "metadata": {},
   "source": [
    "----\n",
    "####  \n",
    "#### last.fm API settings\n",
    "\n",
    "Specify a valid header and API key, [documentation](https://www.last.fm/api). See the example data returned for [similar artists info](https://www.last.fm/api/show/artist.getSimilar) below."
   ]
  },
  {
   "cell_type": "code",
   "execution_count": 38,
   "id": "fae31b38-d2cb-44f4-98ac-03a62083e241",
   "metadata": {},
   "outputs": [],
   "source": [
    "headers = {'user-agent': 'your-project-name/0.0.1'}\n",
    "key = 'your-API-key'\n",
    "base = 'http://ws.audioscrobbler.com/2.0/?method=artist.getsimilar&artist='"
   ]
  },
  {
   "cell_type": "code",
   "execution_count": 6,
   "id": "44446652-5053-4c06-9f62-8d0b7e49da1c",
   "metadata": {
    "scrolled": true,
    "tags": []
   },
   "outputs": [
    {
     "data": {
      "text/plain": [
       "{'similarartists': {'artist': [{'name': 'Q-Tip',\n",
       "    'match': '1',\n",
       "    'url': 'https://www.last.fm/music/Q-Tip',\n",
       "    'image': [{'#text': 'https://lastfm.freetls.fastly.net/i/u/34s/2a96cbd8b46e442fc41c2b86b821562f.png',\n",
       "      'size': 'small'},\n",
       "     {'#text': 'https://lastfm.freetls.fastly.net/i/u/64s/2a96cbd8b46e442fc41c2b86b821562f.png',\n",
       "      'size': 'medium'},\n",
       "     {'#text': 'https://lastfm.freetls.fastly.net/i/u/174s/2a96cbd8b46e442fc41c2b86b821562f.png',\n",
       "      'size': 'large'},\n",
       "     {'#text': 'https://lastfm.freetls.fastly.net/i/u/300x300/2a96cbd8b46e442fc41c2b86b821562f.png',\n",
       "      'size': 'extralarge'},\n",
       "     {'#text': 'https://lastfm.freetls.fastly.net/i/u/300x300/2a96cbd8b46e442fc41c2b86b821562f.png',\n",
       "      'size': 'mega'},\n",
       "     {'#text': 'https://lastfm.freetls.fastly.net/i/u/300x300/2a96cbd8b46e442fc41c2b86b821562f.png',\n",
       "      'size': ''}],\n",
       "    'streamable': '0'},\n",
       "   {'name': 'The Pharcyde',\n",
       "    'mbid': 'd7134426-a937-43bf-bc54-f10ad8102ed9',\n",
       "    'match': '0.988053',\n",
       "    'url': 'https://www.last.fm/music/The+Pharcyde',\n",
       "    'image': [{'#text': 'https://lastfm.freetls.fastly.net/i/u/34s/2a96cbd8b46e442fc41c2b86b821562f.png',\n",
       "      'size': 'small'},\n",
       "     {'#text': 'https://lastfm.freetls.fastly.net/i/u/64s/2a96cbd8b46e442fc41c2b86b821562f.png',\n",
       "      'size': 'medium'},\n",
       "     {'#text': 'https://lastfm.freetls.fastly.net/i/u/174s/2a96cbd8b46e442fc41c2b86b821562f.png',\n",
       "      'size': 'large'},\n",
       "     {'#text': 'https://lastfm.freetls.fastly.net/i/u/300x300/2a96cbd8b46e442fc41c2b86b821562f.png',\n",
       "      'size': 'extralarge'},\n",
       "     {'#text': 'https://lastfm.freetls.fastly.net/i/u/300x300/2a96cbd8b46e442fc41c2b86b821562f.png',\n",
       "      'size': 'mega'},\n",
       "     {'#text': 'https://lastfm.freetls.fastly.net/i/u/300x300/2a96cbd8b46e442fc41c2b86b821562f.png',\n",
       "      'size': ''}],\n",
       "    'streamable': '0'},\n",
       "   {'name': 'Gang Starr',\n",
       "    'mbid': '9ef8042a-2528-4f5c-b7c1-5e72b1efe170',\n",
       "    'match': '0.854546',\n",
       "    'url': 'https://www.last.fm/music/Gang+Starr',\n",
       "    'image': [{'#text': 'https://lastfm.freetls.fastly.net/i/u/34s/2a96cbd8b46e442fc41c2b86b821562f.png',\n",
       "      'size': 'small'},\n",
       "     {'#text': 'https://lastfm.freetls.fastly.net/i/u/64s/2a96cbd8b46e442fc41c2b86b821562f.png',\n",
       "      'size': 'medium'},\n",
       "     {'#text': 'https://lastfm.freetls.fastly.net/i/u/174s/2a96cbd8b46e442fc41c2b86b821562f.png',\n",
       "      'size': 'large'},\n",
       "     {'#text': 'https://lastfm.freetls.fastly.net/i/u/300x300/2a96cbd8b46e442fc41c2b86b821562f.png',\n",
       "      'size': 'extralarge'},\n",
       "     {'#text': 'https://lastfm.freetls.fastly.net/i/u/300x300/2a96cbd8b46e442fc41c2b86b821562f.png',\n",
       "      'size': 'mega'},\n",
       "     {'#text': 'https://lastfm.freetls.fastly.net/i/u/300x300/2a96cbd8b46e442fc41c2b86b821562f.png',\n",
       "      'size': ''}],\n",
       "    'streamable': '0'},\n",
       "   {'name': 'The Roots',\n",
       "    'mbid': 'a9667e1a-cc53-412e-ae6d-72e24b79cfa8',\n",
       "    'match': '0.850395',\n",
       "    'url': 'https://www.last.fm/music/The+Roots',\n",
       "    'image': [{'#text': 'https://lastfm.freetls.fastly.net/i/u/34s/2a96cbd8b46e442fc41c2b86b821562f.png',\n",
       "      'size': 'small'},\n",
       "     {'#text': 'https://lastfm.freetls.fastly.net/i/u/64s/2a96cbd8b46e442fc41c2b86b821562f.png',\n",
       "      'size': 'medium'},\n",
       "     {'#text': 'https://lastfm.freetls.fastly.net/i/u/174s/2a96cbd8b46e442fc41c2b86b821562f.png',\n",
       "      'size': 'large'},\n",
       "     {'#text': 'https://lastfm.freetls.fastly.net/i/u/300x300/2a96cbd8b46e442fc41c2b86b821562f.png',\n",
       "      'size': 'extralarge'},\n",
       "     {'#text': 'https://lastfm.freetls.fastly.net/i/u/300x300/2a96cbd8b46e442fc41c2b86b821562f.png',\n",
       "      'size': 'mega'},\n",
       "     {'#text': 'https://lastfm.freetls.fastly.net/i/u/300x300/2a96cbd8b46e442fc41c2b86b821562f.png',\n",
       "      'size': ''}],\n",
       "    'streamable': '0'},\n",
       "   {'name': 'OutKast',\n",
       "    'mbid': '73fdb566-a9b1-494c-9f32-51768ec9fd27',\n",
       "    'match': '0.820702',\n",
       "    'url': 'https://www.last.fm/music/OutKast',\n",
       "    'image': [{'#text': 'https://lastfm.freetls.fastly.net/i/u/34s/2a96cbd8b46e442fc41c2b86b821562f.png',\n",
       "      'size': 'small'},\n",
       "     {'#text': 'https://lastfm.freetls.fastly.net/i/u/64s/2a96cbd8b46e442fc41c2b86b821562f.png',\n",
       "      'size': 'medium'},\n",
       "     {'#text': 'https://lastfm.freetls.fastly.net/i/u/174s/2a96cbd8b46e442fc41c2b86b821562f.png',\n",
       "      'size': 'large'},\n",
       "     {'#text': 'https://lastfm.freetls.fastly.net/i/u/300x300/2a96cbd8b46e442fc41c2b86b821562f.png',\n",
       "      'size': 'extralarge'},\n",
       "     {'#text': 'https://lastfm.freetls.fastly.net/i/u/300x300/2a96cbd8b46e442fc41c2b86b821562f.png',\n",
       "      'size': 'mega'},\n",
       "     {'#text': 'https://lastfm.freetls.fastly.net/i/u/300x300/2a96cbd8b46e442fc41c2b86b821562f.png',\n",
       "      'size': ''}],\n",
       "    'streamable': '0'},\n",
       "   {'name': 'Mos Def',\n",
       "    'mbid': '9f4551c6-1324-4ac5-b3fe-a5c5cfacd54d',\n",
       "    'match': '0.804972',\n",
       "    'url': 'https://www.last.fm/music/Mos+Def',\n",
       "    'image': [{'#text': 'https://lastfm.freetls.fastly.net/i/u/34s/2a96cbd8b46e442fc41c2b86b821562f.png',\n",
       "      'size': 'small'},\n",
       "     {'#text': 'https://lastfm.freetls.fastly.net/i/u/64s/2a96cbd8b46e442fc41c2b86b821562f.png',\n",
       "      'size': 'medium'},\n",
       "     {'#text': 'https://lastfm.freetls.fastly.net/i/u/174s/2a96cbd8b46e442fc41c2b86b821562f.png',\n",
       "      'size': 'large'},\n",
       "     {'#text': 'https://lastfm.freetls.fastly.net/i/u/300x300/2a96cbd8b46e442fc41c2b86b821562f.png',\n",
       "      'size': 'extralarge'},\n",
       "     {'#text': 'https://lastfm.freetls.fastly.net/i/u/300x300/2a96cbd8b46e442fc41c2b86b821562f.png',\n",
       "      'size': 'mega'},\n",
       "     {'#text': 'https://lastfm.freetls.fastly.net/i/u/300x300/2a96cbd8b46e442fc41c2b86b821562f.png',\n",
       "      'size': ''}],\n",
       "    'streamable': '0'},\n",
       "   {'name': 'Digable Planets',\n",
       "    'mbid': 'ff44f779-74ab-48f8-aac3-39ebe8f7c18e',\n",
       "    'match': '0.801717',\n",
       "    'url': 'https://www.last.fm/music/Digable+Planets',\n",
       "    'image': [{'#text': 'https://lastfm.freetls.fastly.net/i/u/34s/2a96cbd8b46e442fc41c2b86b821562f.png',\n",
       "      'size': 'small'},\n",
       "     {'#text': 'https://lastfm.freetls.fastly.net/i/u/64s/2a96cbd8b46e442fc41c2b86b821562f.png',\n",
       "      'size': 'medium'},\n",
       "     {'#text': 'https://lastfm.freetls.fastly.net/i/u/174s/2a96cbd8b46e442fc41c2b86b821562f.png',\n",
       "      'size': 'large'},\n",
       "     {'#text': 'https://lastfm.freetls.fastly.net/i/u/300x300/2a96cbd8b46e442fc41c2b86b821562f.png',\n",
       "      'size': 'extralarge'},\n",
       "     {'#text': 'https://lastfm.freetls.fastly.net/i/u/300x300/2a96cbd8b46e442fc41c2b86b821562f.png',\n",
       "      'size': 'mega'},\n",
       "     {'#text': 'https://lastfm.freetls.fastly.net/i/u/300x300/2a96cbd8b46e442fc41c2b86b821562f.png',\n",
       "      'size': ''}],\n",
       "    'streamable': '0'},\n",
       "   {'name': 'De La Soul',\n",
       "    'mbid': 'a8ebde98-7e91-46c7-992c-90039ba42017',\n",
       "    'match': '0.788076',\n",
       "    'url': 'https://www.last.fm/music/De+La+Soul',\n",
       "    'image': [{'#text': 'https://lastfm.freetls.fastly.net/i/u/34s/2a96cbd8b46e442fc41c2b86b821562f.png',\n",
       "      'size': 'small'},\n",
       "     {'#text': 'https://lastfm.freetls.fastly.net/i/u/64s/2a96cbd8b46e442fc41c2b86b821562f.png',\n",
       "      'size': 'medium'},\n",
       "     {'#text': 'https://lastfm.freetls.fastly.net/i/u/174s/2a96cbd8b46e442fc41c2b86b821562f.png',\n",
       "      'size': 'large'},\n",
       "     {'#text': 'https://lastfm.freetls.fastly.net/i/u/300x300/2a96cbd8b46e442fc41c2b86b821562f.png',\n",
       "      'size': 'extralarge'},\n",
       "     {'#text': 'https://lastfm.freetls.fastly.net/i/u/300x300/2a96cbd8b46e442fc41c2b86b821562f.png',\n",
       "      'size': 'mega'},\n",
       "     {'#text': 'https://lastfm.freetls.fastly.net/i/u/300x300/2a96cbd8b46e442fc41c2b86b821562f.png',\n",
       "      'size': ''}],\n",
       "    'streamable': '0'},\n",
       "   {'name': 'Pete Rock & C.L. Smooth',\n",
       "    'mbid': 'cff77480-7ba4-4206-b1a8-e1b98b38f07c',\n",
       "    'match': '0.767820',\n",
       "    'url': 'https://www.last.fm/music/Pete+Rock+&+C.L.+Smooth',\n",
       "    'image': [{'#text': 'https://lastfm.freetls.fastly.net/i/u/34s/2a96cbd8b46e442fc41c2b86b821562f.png',\n",
       "      'size': 'small'},\n",
       "     {'#text': 'https://lastfm.freetls.fastly.net/i/u/64s/2a96cbd8b46e442fc41c2b86b821562f.png',\n",
       "      'size': 'medium'},\n",
       "     {'#text': 'https://lastfm.freetls.fastly.net/i/u/174s/2a96cbd8b46e442fc41c2b86b821562f.png',\n",
       "      'size': 'large'},\n",
       "     {'#text': 'https://lastfm.freetls.fastly.net/i/u/300x300/2a96cbd8b46e442fc41c2b86b821562f.png',\n",
       "      'size': 'extralarge'},\n",
       "     {'#text': 'https://lastfm.freetls.fastly.net/i/u/300x300/2a96cbd8b46e442fc41c2b86b821562f.png',\n",
       "      'size': 'mega'},\n",
       "     {'#text': 'https://lastfm.freetls.fastly.net/i/u/300x300/2a96cbd8b46e442fc41c2b86b821562f.png',\n",
       "      'size': ''}],\n",
       "    'streamable': '0'},\n",
       "   {'name': 'Common',\n",
       "    'mbid': 'c0a1179b-b14a-4d68-a3c1-1fdab16ed602',\n",
       "    'match': '0.756784',\n",
       "    'url': 'https://www.last.fm/music/Common',\n",
       "    'image': [{'#text': 'https://lastfm.freetls.fastly.net/i/u/34s/2a96cbd8b46e442fc41c2b86b821562f.png',\n",
       "      'size': 'small'},\n",
       "     {'#text': 'https://lastfm.freetls.fastly.net/i/u/64s/2a96cbd8b46e442fc41c2b86b821562f.png',\n",
       "      'size': 'medium'},\n",
       "     {'#text': 'https://lastfm.freetls.fastly.net/i/u/174s/2a96cbd8b46e442fc41c2b86b821562f.png',\n",
       "      'size': 'large'},\n",
       "     {'#text': 'https://lastfm.freetls.fastly.net/i/u/300x300/2a96cbd8b46e442fc41c2b86b821562f.png',\n",
       "      'size': 'extralarge'},\n",
       "     {'#text': 'https://lastfm.freetls.fastly.net/i/u/300x300/2a96cbd8b46e442fc41c2b86b821562f.png',\n",
       "      'size': 'mega'},\n",
       "     {'#text': 'https://lastfm.freetls.fastly.net/i/u/300x300/2a96cbd8b46e442fc41c2b86b821562f.png',\n",
       "      'size': ''}],\n",
       "    'streamable': '0'}],\n",
       "  '@attr': {'artist': 'A Tribe Called Quest'}}}"
      ]
     },
     "execution_count": 6,
     "metadata": {},
     "output_type": "execute_result"
    }
   ],
   "source": [
    "example_artist = 'A Tribe Called Quest'\n",
    "URL = f'{base}{example_artist}&limit=10&api_key={key}&format=json'\n",
    "r = requests.get(URL, headers=headers)\n",
    "json.loads(r.content)"
   ]
  },
  {
   "cell_type": "markdown",
   "id": "037f1e89-be91-4f0f-b04c-058d0cb5b02c",
   "metadata": {},
   "source": [
    "----\n",
    "### \n",
    "### Loop for Similar Artists\n",
    "\n",
    "Notes:\n",
    " * similar artist and failed search data saved in default dictionaries, alias names saved in dictionary\n",
    " * [tqdm](https://tqdm.github.io/) used to track loop progress\n",
    "   * progress bar could be customized to provide more information\n",
    " * rate limits are not specified for API, but conservative sleep time used for final data collection.\n",
    "   * can be reduced, I only slept 0.1s for example\n",
    " \n",
    "*sample of artist list used for example in this notebook*"
   ]
  },
  {
   "cell_type": "code",
   "execution_count": 14,
   "id": "52740c25-9a57-4825-be54-0ad5790a9cc4",
   "metadata": {},
   "outputs": [],
   "source": [
    "sim_artists = defaultdict(list)\n",
    "artists_alias = {}\n",
    "fails = defaultdict(list)"
   ]
  },
  {
   "cell_type": "code",
   "execution_count": 11,
   "id": "691783dc-a707-4e64-a03f-97bc627361cc",
   "metadata": {},
   "outputs": [
    {
     "name": "stdout",
     "output_type": "stream",
     "text": [
      "308\n"
     ]
    }
   ],
   "source": [
    "example_list = [artist_list[val] for val in range(0,len(artist_list),5)]\n",
    "print(len(example_list))"
   ]
  },
  {
   "cell_type": "code",
   "execution_count": 21,
   "id": "2c0b93bd-900e-4729-9a20-415498df0ed5",
   "metadata": {},
   "outputs": [
    {
     "name": "stderr",
     "output_type": "stream",
     "text": [
      "100%|██████████| 308/308 [01:27<00:00,  3.52it/s]\n"
     ]
    }
   ],
   "source": [
    "for artist in tqdm(example_list):\n",
    "    alias = False\n",
    "    URL = f'{base}{artist}&limit=10&api_key={key}&format=json'                     \n",
    "    r = requests.get(URL, headers=headers)\n",
    "    \n",
    "    # Check for valid response may be useful in development\n",
    "    # if r.status_code != 200:\n",
    "    #     fails[artist].append('request')\n",
    "    #     continue\n",
    "    \n",
    "    # dictionary.get() method helpful to reduce amount of if statements\n",
    "    data = json.loads(r.content)\n",
    "    message = data.get('message','')\n",
    "    data = data.get('similarartists',{}).get('artist',[])\n",
    "      \n",
    "    if not data: # try replacing symbols for \"and\" and search again\n",
    "        new_artist = artist.replace('+','and').replace('&','and')\n",
    "        URL = f'{base}{new_artist}&limit=10&api_key={key}&format=json'                     \n",
    "        r = requests.get(URL, headers=headers)\n",
    "        data = json.loads(r.content)\n",
    "        message = data.get('message','')\n",
    "        data = data.get('similarartists',{}).get('artist',[])\n",
    "        alias = True # mark to save alias or note attempt in error message\n",
    "    \n",
    "    sleep(0.5)\n",
    "    # gather data if present    \n",
    "    if data: \n",
    "        try: # try/else not needed, but could be helpful in development\n",
    "            for similar in data:\n",
    "                sim_artists[artist].append(\n",
    "                    {'name':similar['name'],'score':int(float(similar['match'])*1e6), 'link':similar['url'], \n",
    "                     'library': True if similar['name'].lower() in artist_lower else False}\n",
    "                                            )\n",
    "                if alias:               \n",
    "                    artists_alias[artist] = new_artist\n",
    "        except Exception as e:\n",
    "            fails[artist].append(str(e))\n",
    "        \n",
    "    else:\n",
    "        # data could be empty, alias could have been tried, error message could be present\n",
    "        if message:\n",
    "            fails[artist].append(f\"{message} Alias tried\") if alias else fails[artist].append(message)\n",
    "        else:\n",
    "            fails[artist].append('No Matches! Alias tried.') if alias else fails[artist].append('No Matches!')\n",
    "        continue"
   ]
  },
  {
   "cell_type": "markdown",
   "id": "bfb118ad-902a-4f2a-b3b9-86f435483e76",
   "metadata": {},
   "source": [
    "----\n",
    "### \n",
    "### Data Preview\n",
    "#### Similar Artist Data"
   ]
  },
  {
   "cell_type": "code",
   "execution_count": 31,
   "id": "0f111cf7-7af0-487a-9766-ee8fdd377fb1",
   "metadata": {
    "scrolled": true,
    "tags": []
   },
   "outputs": [
    {
     "name": "stdout",
     "output_type": "stream",
     "text": [
      "[[{'name': 'The Juan Maclean', 'score': 1000000, 'link': 'https://www.last.fm/music/The+Juan+Maclean', 'library': False}, {'name': 'Holy Ghost!', 'score': 942644, 'link': 'https://www.last.fm/music/Holy+Ghost%21', 'library': True}, {'name': 'The Rapture', 'score': 803641, 'link': 'https://www.last.fm/music/The+Rapture', 'library': True}, {'name': 'Cut Copy', 'score': 652309, 'link': 'https://www.last.fm/music/Cut+Copy', 'library': True}, {'name': 'LCD Soundsystem', 'score': 631905, 'link': 'https://www.last.fm/music/LCD+Soundsystem', 'library': True}, {'name': 'Hot Chip', 'score': 598909, 'link': 'https://www.last.fm/music/Hot+Chip', 'library': True}, {'name': 'Yacht', 'score': 593413, 'link': 'https://www.last.fm/music/Yacht', 'library': False}, {'name': 'The Faint', 'score': 587127, 'link': 'https://www.last.fm/music/The+Faint', 'library': False}, {'name': 'Soulwax', 'score': 570667, 'link': 'https://www.last.fm/music/Soulwax', 'library': False}, {'name': 'Fujiya & Miyagi', 'score': 537388, 'link': 'https://www.last.fm/music/Fujiya+&+Miyagi', 'library': True}], [{'name': 'AllttA', 'score': 1000000, 'link': 'https://www.last.fm/music/AllttA', 'library': False}, {'name': 'Hocus Pocus', 'score': 452943, 'link': 'https://www.last.fm/music/Hocus+Pocus', 'library': False}, {'name': 'C2C', 'score': 277319, 'link': 'https://www.last.fm/music/C2C', 'library': True}, {'name': 'La Fine Equipe', 'score': 212513, 'link': 'https://www.last.fm/music/La+Fine+Equipe', 'library': False}, {'name': 'Les Gordon', 'score': 177528, 'link': 'https://www.last.fm/music/Les+Gordon', 'library': False}, {'name': 'Senbeï', 'score': 166303, 'link': 'https://www.last.fm/music/Senbe%C3%AF', 'library': False}, {'name': 'Chill Bump', 'score': 156025, 'link': 'https://www.last.fm/music/Chill+Bump', 'library': False}, {'name': 'ProleteR', 'score': 125476, 'link': 'https://www.last.fm/music/ProleteR', 'library': False}, {'name': 'Hermitude', 'score': 120599, 'link': 'https://www.last.fm/music/Hermitude', 'library': False}, {'name': 'Big Wild', 'score': 99410, 'link': 'https://www.last.fm/music/Big+Wild', 'library': False}], [{'name': 'Slightly Stoopid', 'score': 1000000, 'link': 'https://www.last.fm/music/Slightly+Stoopid', 'library': True}, {'name': 'Pepper', 'score': 986724, 'link': 'https://www.last.fm/music/Pepper', 'library': False}, {'name': 'Sublime with Rome', 'score': 875120, 'link': 'https://www.last.fm/music/Sublime+with+Rome', 'library': True}, {'name': 'Sublime', 'score': 851806, 'link': 'https://www.last.fm/music/Sublime', 'library': True}, {'name': 'The Dirty Heads', 'score': 752127, 'link': 'https://www.last.fm/music/The+Dirty+Heads', 'library': False}, {'name': 'The Expendables', 'score': 661561, 'link': 'https://www.last.fm/music/The+Expendables', 'library': False}, {'name': 'Incubus', 'score': 641804, 'link': 'https://www.last.fm/music/Incubus', 'library': True}, {'name': 'Sugar Ray', 'score': 592850, 'link': 'https://www.last.fm/music/Sugar+Ray', 'library': False}, {'name': 'Everclear', 'score': 524681, 'link': 'https://www.last.fm/music/Everclear', 'library': True}, {'name': 'Rebelution', 'score': 521144, 'link': 'https://www.last.fm/music/Rebelution', 'library': True}], [{'name': 'Puscifer', 'score': 1000000, 'link': 'https://www.last.fm/music/Puscifer', 'library': False}, {'name': 'Tool', 'score': 815226, 'link': 'https://www.last.fm/music/Tool', 'library': True}, {'name': 'ASHES dIVIDE', 'score': 528511, 'link': 'https://www.last.fm/music/ASHES+dIVIDE', 'library': False}, {'name': 'Chevelle', 'score': 343336, 'link': 'https://www.last.fm/music/Chevelle', 'library': False}, {'name': 'Karnivool', 'score': 317013, 'link': 'https://www.last.fm/music/Karnivool', 'library': False}, {'name': 'Rishloo', 'score': 263951, 'link': 'https://www.last.fm/music/Rishloo', 'library': False}, {'name': 'Incubus', 'score': 247464, 'link': 'https://www.last.fm/music/Incubus', 'library': True}, {'name': 'Staind', 'score': 220386, 'link': 'https://www.last.fm/music/Staind', 'library': False}, {'name': 'Filter', 'score': 207575, 'link': 'https://www.last.fm/music/Filter', 'library': False}, {'name': 'dredg', 'score': 206724, 'link': 'https://www.last.fm/music/dredg', 'library': True}], [{'name': 'A$AP Mob', 'score': 1000000, 'link': 'https://www.last.fm/music/A$AP+Mob', 'library': False}, {'name': 'Travi$ Scott', 'score': 703123, 'link': 'https://www.last.fm/music/Travi$+Scott', 'library': False}, {'name': 'A$AP Ferg', 'score': 566971, 'link': 'https://www.last.fm/music/A$AP+Ferg', 'library': True}, {'name': 'Joey Bada$$', 'score': 533731, 'link': 'https://www.last.fm/music/Joey+Bada$$', 'library': True}, {'name': 'ScHoolboy Q', 'score': 521700, 'link': 'https://www.last.fm/music/ScHoolboy+Q', 'library': True}, {'name': 'Kid Cudi', 'score': 430418, 'link': 'https://www.last.fm/music/Kid+Cudi', 'library': True}, {'name': 'Kendrick Lamar', 'score': 407523, 'link': 'https://www.last.fm/music/Kendrick+Lamar', 'library': True}, {'name': 'Future', 'score': 405444, 'link': 'https://www.last.fm/music/Future', 'library': True}, {'name': 'Denzel Curry', 'score': 402791, 'link': 'https://www.last.fm/music/Denzel+Curry', 'library': True}, {'name': 'Mac Miller', 'score': 367647, 'link': 'https://www.last.fm/music/Mac+Miller', 'library': True}]]\n"
     ]
    }
   ],
   "source": [
    "print([sim_artists[val] for val in list(sim_artists.keys())[0:5]])"
   ]
  },
  {
   "cell_type": "markdown",
   "id": "3a6d3517-a332-4dda-bdb8-db8242872114",
   "metadata": {},
   "source": [
    "#### Alias Artist Names\n",
    "*keys are library artists as stored in the database, values were strings used for successful searches*"
   ]
  },
  {
   "cell_type": "code",
   "execution_count": 32,
   "id": "50d54698-f80f-4079-80d2-d387c643a646",
   "metadata": {
    "scrolled": true,
    "tags": []
   },
   "outputs": [
    {
     "data": {
      "text/plain": [
       "{'Alina Baraz & Galimatias': 'Alina Baraz and Galimatias',\n",
       " 'David Byrne & St. Vincent': 'David Byrne and St. Vincent',\n",
       " 'Diplo & Datsik': 'Diplo and Datsik',\n",
       " 'Donnie Trumpet & The Social Experiment': 'Donnie Trumpet and The Social Experiment',\n",
       " 'Dr. Dre & Eminem': 'Dr. Dre and Eminem',\n",
       " 'Emerson, Lake & Palmer': 'Emerson, Lake and Palmer',\n",
       " 'Pete Philly & Perquisite': 'Pete Philly and Perquisite',\n",
       " 'Rising Appalachia & The Human Experience': 'Rising Appalachia and The Human Experience',\n",
       " 'Rosie Thomas & Sufjan Stevens': 'Rosie Thomas and Sufjan Stevens',\n",
       " 'Wynton Kelly Trio & Wes Montgomery': 'Wynton Kelly Trio and Wes Montgomery',\n",
       " 'Yo-Yo Ma & Bobby McFerrin': 'Yo-Yo Ma and Bobby McFerrin'}"
      ]
     },
     "execution_count": 32,
     "metadata": {},
     "output_type": "execute_result"
    }
   ],
   "source": [
    "artists_alias"
   ]
  },
  {
   "cell_type": "markdown",
   "id": "c16f7a09-004f-47bb-aafe-d72a0004ddf1",
   "metadata": {},
   "source": [
    "#### Failed Searches\n",
    "*example for one artist*"
   ]
  },
  {
   "cell_type": "code",
   "execution_count": 36,
   "id": "369f523c-e7fd-4933-9cc7-24b4b59d7dcb",
   "metadata": {
    "scrolled": true,
    "tags": []
   },
   "outputs": [
    {
     "data": {
      "text/plain": [
       "['No Matches! Alias tried.']"
      ]
     },
     "execution_count": 36,
     "metadata": {},
     "output_type": "execute_result"
    }
   ],
   "source": [
    "fails['tab spencer']"
   ]
  },
  {
   "cell_type": "markdown",
   "id": "491cd5aa-db84-4f8e-bba4-4f3e6b06875a",
   "metadata": {},
   "source": [
    "----\n",
    "### \n",
    "### Save Data\n",
    "\n",
    "Saved data will be loaded and used for network graph creation and plotting."
   ]
  },
  {
   "cell_type": "code",
   "execution_count": 37,
   "id": "4a90731c-a551-44c0-89ca-a51c2d1ff399",
   "metadata": {},
   "outputs": [],
   "source": [
    "with open('ex_sim_artists.json', 'w', encoding = 'utf-8') as file:\n",
    "    file.write(json.dumps(sim_artists))\n",
    "    \n",
    "with open('ex_artists_alias.json', 'w', encoding = 'utf-8') as file:\n",
    "    file.write(json.dumps(artists_alias))\n",
    "    \n",
    "with open('ex_fails.json', 'w', encoding = 'utf-8') as file:\n",
    "    file.write(json.dumps(fails))"
   ]
  }
 ],
 "metadata": {
  "kernelspec": {
   "display_name": "Python 3 (ipykernel)",
   "language": "python",
   "name": "python3"
  },
  "language_info": {
   "codemirror_mode": {
    "name": "ipython",
    "version": 3
   },
   "file_extension": ".py",
   "mimetype": "text/x-python",
   "name": "python",
   "nbconvert_exporter": "python",
   "pygments_lexer": "ipython3",
   "version": "3.10.9"
  }
 },
 "nbformat": 4,
 "nbformat_minor": 5
}
